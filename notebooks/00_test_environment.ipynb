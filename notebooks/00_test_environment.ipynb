# notebooks/00_test_environment.ipynb

!pip freeze | grep pandas
!pip freeze | grep numpy
!pip freeze | grep scikit-learn
!pip freeze | grep xgboost

print("✅ All key libraries are installed!")
