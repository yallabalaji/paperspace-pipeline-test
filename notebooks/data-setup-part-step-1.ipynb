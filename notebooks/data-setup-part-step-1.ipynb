{
 "cells": [
  {
   "cell_type": "code",
   "execution_count": 9,
   "id": "9b9048ec-e1e8-4e48-99ce-978f1b310ceb",
   "metadata": {
    "tags": []
   },
   "outputs": [
    {
     "name": "stdout",
     "output_type": "stream",
     "text": [
      "\u001b[33mWARNING: Running pip as the 'root' user can result in broken permissions and conflicting behaviour with the system package manager. It is recommended to use a virtual environment instead: https://pip.pypa.io/warnings/venv\u001b[0m\u001b[33m\n",
      "\u001b[0mNote: you may need to restart the kernel to use updated packages.\n"
     ]
    }
   ],
   "source": [
    "pip install -q requests tqdm"
   ]
  },
  {
   "cell_type": "code",
   "execution_count": 10,
   "id": "c528f3f7-9435-4c99-9911-3b4debbdf9e4",
   "metadata": {
    "tags": []
   },
   "outputs": [
    {
     "name": "stdout",
     "output_type": "stream",
     "text": [
      "\u001b[33mWARNING: Running pip as the 'root' user can result in broken permissions and conflicting behaviour with the system package manager. It is recommended to use a virtual environment instead: https://pip.pypa.io/warnings/venv\u001b[0m\u001b[33m\n",
      "\u001b[0mNote: you may need to restart the kernel to use updated packages.\n"
     ]
    }
   ],
   "source": [
    "pip install -q python-dotenv"
   ]
  },
  {
   "cell_type": "code",
   "execution_count": 13,
   "id": "117c043e-5e93-46b3-801c-7bedaa44a798",
   "metadata": {
    "tags": []
   },
   "outputs": [],
   "source": [
    "from dotenv import load_dotenv\n",
    "load_dotenv(dotenv_path=\"/notebooks/stage.env\")\n",
    "\n",
    "import os"
   ]
  },
  {
   "cell_type": "code",
   "execution_count": 15,
   "id": "f21e9c6c-cd08-4906-9167-9678ce5ec4c6",
   "metadata": {
    "tags": []
   },
   "outputs": [
    {
     "name": "stdout",
     "output_type": "stream",
     "text": [
      "⬇️  Downloading train_data.csv...\n"
     ]
    },
    {
     "name": "stderr",
     "output_type": "stream",
     "text": [
      "6827MB [00:37, 182.75MB/s]                          \n"
     ]
    },
    {
     "name": "stdout",
     "output_type": "stream",
     "text": [
      "✅ Downloaded train_data.csv. Extracting...\n",
      "🧹 Cleaned up train_data.csv.zip\n",
      "⬇️  Downloading train_labels.csv...\n"
     ]
    },
    {
     "name": "stderr",
     "output_type": "stream",
     "text": [
      "17MB [00:00, 17.06MB/s]                        \n"
     ]
    },
    {
     "name": "stdout",
     "output_type": "stream",
     "text": [
      "✅ Downloaded train_labels.csv. Extracting...\n",
      "🧹 Cleaned up train_labels.csv.zip\n",
      "⬇️  Downloading sample_submission.csv...\n"
     ]
    },
    {
     "name": "stderr",
     "output_type": "stream",
     "text": [
      "33MB [00:00, 62.85MB/s]                        \n"
     ]
    },
    {
     "name": "stdout",
     "output_type": "stream",
     "text": [
      "✅ Downloaded sample_submission.csv. Extracting...\n",
      "🧹 Cleaned up sample_submission.csv.zip\n"
     ]
    }
   ],
   "source": [
    "import requests\n",
    "from pathlib import Path\n",
    "from tqdm import tqdm\n",
    "import zipfile\n",
    "import os\n",
    "import json\n",
    "\n",
    "# Where to save data\n",
    "DATA_DIR = Path(\"data\")\n",
    "DATA_DIR.mkdir(exist_ok=True)\n",
    "\n",
    "KAGGLE_USERNAME = os.getenv(\"username\")\n",
    "KAGGLE_KEY = os.getenv(\"key\")\n",
    "\n",
    "def download_file(file_name):\n",
    "    url = f\"https://www.kaggle.com/api/v1/competitions/data/download/amex-default-prediction/{file_name}\"\n",
    "    auth = (KAGGLE_USERNAME, KAGGLE_KEY)\n",
    "    headers = {\"User-Agent\": \"Mozilla/5.0\"}\n",
    "    zip_path = DATA_DIR / f\"{file_name}.zip\"\n",
    "\n",
    "    print(f\"⬇️  Downloading {file_name}...\")\n",
    "\n",
    "    with requests.get(url, stream=True, auth=auth, headers=headers) as r:\n",
    "        r.raise_for_status()\n",
    "        total_size = int(r.headers.get(\"content-length\", 0))\n",
    "        with open(zip_path, \"wb\") as f:\n",
    "            for chunk in tqdm(r.iter_content(chunk_size=1024 * 1024),  # 1MB chunks\n",
    "                              total=total_size // (1024 * 1024),\n",
    "                              unit=\"MB\"):\n",
    "                f.write(chunk)\n",
    "\n",
    "    print(f\"✅ Downloaded {file_name}. Extracting...\")\n",
    "\n",
    "    with zipfile.ZipFile(zip_path, 'r') as zip_ref:\n",
    "        zip_ref.extractall(DATA_DIR)\n",
    "\n",
    "    os.remove(zip_path)\n",
    "    print(f\"🧹 Cleaned up {file_name}.zip\")\n",
    "\n",
    "# Files to grab\n",
    "files = [\"train_data.csv\", \"train_labels.csv\", \"sample_submission.csv\"]\n",
    "for f in files:\n",
    "    download_file(f)"
   ]
  }
 ],
 "metadata": {
  "kernelspec": {
   "display_name": "Python 3 (ipykernel)",
   "language": "python",
   "name": "python3"
  },
  "language_info": {
   "codemirror_mode": {
    "name": "ipython",
    "version": 3
   },
   "file_extension": ".py",
   "mimetype": "text/x-python",
   "name": "python",
   "nbconvert_exporter": "python",
   "pygments_lexer": "ipython3",
   "version": "3.11.7"
  }
 },
 "nbformat": 4,
 "nbformat_minor": 5
}
