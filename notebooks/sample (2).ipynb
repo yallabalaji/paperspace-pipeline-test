{
  "metadata": {
    "kernelspec": {
      "name": "python",
      "display_name": "Python (Pyodide)",
      "language": "python"
    },
    "language_info": {
      "name": ""
    }
  },
  "nbformat_minor": 5,
  "nbformat": 4,
  "cells": [
    {
      "id": "7d781211-d0c4-4f0b-be16-faeb028ebef8",
      "cell_type": "markdown",
      "source": "# notebooks/00_test_environment.ipynb",
      "metadata": {}
    },
    {
      "id": "acd70ef7-7cec-4122-ad30-13a5ddb46699",
      "cell_type": "code",
      "source": "!pip freeze | grep pandas\n!pip freeze | grep numpy\n!pip freeze | grep scikit-learn\n!pip freeze | grep xgboost\n\nprint(\"✅ All key libraries are installed!\")",
      "metadata": {
        "trusted": true
      },
      "outputs": [],
      "execution_count": null
    }
  ]
}